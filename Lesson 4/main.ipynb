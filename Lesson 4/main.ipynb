{
 "cells": [
  {
   "cell_type": "code",
   "execution_count": null,
   "metadata": {},
   "outputs": [],
   "source": [
    "s = \"abBAcC\"\n",
    "i = 0\n",
    "while i < len(s)-1:\n",
    "    if ((s[i].islower() and s[i+1].isupper()) or (s[i].isupper() and s[i+1].islower())) and s[i].lower()==s[i+1].lower():\n",
    "        s = s.replace(s[i]+s[i+1],'',1)\n",
    "        i = -1\n",
    "    i += 1\n",
    "print(s)"
   ]
  },
  {
   "cell_type": "code",
   "execution_count": null,
   "metadata": {},
   "outputs": [],
   "source": []
  },
  {
   "cell_type": "code",
   "execution_count": null,
   "metadata": {},
   "outputs": [],
   "source": []
  }
 ],
 "metadata": {
  "language_info": {
   "name": "python"
  },
  "orig_nbformat": 4
 },
 "nbformat": 4,
 "nbformat_minor": 2
}
